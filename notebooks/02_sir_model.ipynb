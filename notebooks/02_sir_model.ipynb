{
 "cells": [
  {
   "cell_type": "markdown",
   "metadata": {},
   "source": [
    "## SIR model"
   ]
  },
  {
   "cell_type": "markdown",
   "metadata": {},
   "source": [
    "> A simple mathematical description of the spread of a disease in a population is the so-called SIR model, which divides the (fixed) population of N individuals into three \"compartments\" which may vary as a function of time, t:\n",
    ">\n",
    "> - S(t) are those susceptible but not yet infected with the disease;\n",
    "> - I(t) is the number of infectious individuals;\n",
    "> - R(t) are those individuals who have recovered from the disease and now have immunity to it.\n",
    ">\n",
    "> The SIR model describes the change in the population of each of these compartments in terms of two parameters, β and γ. \n",
    "> \n",
    "> - β describes the effective contact rate of the disease: an infected individual comes into contact with βN\n",
    " other individuals per unit time (of which the fraction that are susceptible to contracting the disease is S/N)\n",
    "> - γ is the mean recovery rate: that is, 1/γ is the mean period of time during which an infected individual can pass it on.\n",
    ">\n",
    "> The differential equations describing this model were first derived by Kermack and McKendrick [Proc. R. Soc. A, 115, 772 (1927)]:\n",
    ">\n",
    "> $$\\begin{aligned} \\frac{\\mathrm{d} S}{\\mathrm{d} t} &=-\\frac{\\beta S I}{N} \\\\ \\frac{\\mathrm{d} I}{\\mathrm{d} t} &=\\frac{\\beta S I}{N}-\\gamma I \\\\ \\frac{\\mathrm{d} R}{\\mathrm{d} t} &=\\gamma I \\end{aligned}$$\n",
    ">\n",
    "\n",
    "-- [Learning Scientific Programming with Python by Christian Hill](https://scipython.com/book/chapter-8-scipy/additional-examples/the-sir-epidemic-model/)"
   ]
  },
  {
   "cell_type": "code",
   "execution_count": 1,
   "metadata": {},
   "outputs": [
    {
     "name": "stdout",
     "output_type": "stream",
     "text": [
      "Initializing `DiffEq` with keywords:\n",
      "    problem_type_grad: ODEForwardSensitivityProblem\n",
      "    problem_type_no_grad: ODEProblem\n",
      "    solver: Tsit5\n",
      "    reltol: 1e-08\n",
      "    abstol: 1e-08\n",
      "    saveat: 1.0\n",
      "    using: ['DifferentialEquations, DiffEqSensitivity']\n",
      "    debug: 1\n",
      "\n",
      "Started Julia through `PyJulia`, took 9.00sec\n",
      "\n",
      "Julia >>>\n",
      "using DifferentialEquations, DiffEqSensitivity\n",
      "<<<\n",
      "\n",
      "\n",
      "Julia >>>\n",
      "\n",
      "function f(du,u,p,t)\n",
      "    S,I,R = u\n",
      "    b,g = p\n",
      "    du[1] = -b * S * I / 1000.0\n",
      "    du[2] = b * S * I / 1000.0 - g * I\n",
      "    du[3] = g * I\n",
      "end\n",
      "\n",
      "<<<\n",
      "\n"
     ]
    }
   ],
   "source": [
    "import torch\n",
    "import matplotlib.pyplot as plt\n",
    "\n",
    "from diffeqtorch import DiffEq\n",
    "%matplotlib inline\n",
    "\n",
    "\n",
    "N = 1000.\n",
    "\n",
    "f = f\"\"\"\n",
    "function f(du,u,p,t)\n",
    "    S,I,R = u\n",
    "    b,g = p\n",
    "    du[1] = -b * S * I / {N}\n",
    "    du[2] = b * S * I / {N} - g * I\n",
    "    du[3] = g * I\n",
    "end\n",
    "\"\"\"\n",
    "\n",
    "I0 = 1.\n",
    "R0 = 0.\n",
    "S0 = N - I0 - R0\n",
    "\n",
    "u0 = torch.tensor([S0, I0, R0])\n",
    "tspan = torch.tensor([0., 160.])\n",
    "\n",
    "de = DiffEq(f, saveat=1., debug=True)"
   ]
  },
  {
   "cell_type": "code",
   "execution_count": 2,
   "metadata": {
    "scrolled": false
   },
   "outputs": [
    {
     "name": "stdout",
     "output_type": "stream",
     "text": [
      "\n",
      "Julia >>>\n",
      "\n",
      "u0 = [999.0, 1.0, 0.0]\n",
      "tspan = (0.0, 160.0)\n",
      "p = [0.30000001192092896, 0.10000000149011612]\n",
      "\n",
      "prob = ODEProblem(f,u0,tspan,p)\n",
      "\n",
      "solution = solve(prob,Tsit5(),reltol=1e-08,abstol=1e-08,saveat=1.0)\n",
      "\n",
      "solution.u, solution.t\n",
      "\n",
      "<<<\n",
      "\n"
     ]
    }
   ],
   "source": [
    "p = torch.tensor([0.3, 0.1])\n",
    "\n",
    "u, t = de(u0, tspan, p)"
   ]
  },
  {
   "cell_type": "code",
   "execution_count": 3,
   "metadata": {},
   "outputs": [
    {
     "data": {
      "image/png": "[encoded data removed]",
      "text/plain": [
       "<Figure size 432x288 with 1 Axes>"
      ]
     },
     "metadata": {
      "needs_background": "light"
     },
     "output_type": "display_data"
    }
   ],
   "source": [
    "plt.plot(t, u.T / N)\n",
    "plt.legend([\"S(t)\", \"I(t)\", \"R(t)\"])\n",
    "plt.xlabel(\"t\")\n",
    "plt.ylabel(\"Fraction\")\n",
    "plt.show();"
   ]
  },
  {
   "cell_type": "markdown",
   "metadata": {},
   "source": [
    "## Gradients"
   ]
  },
  {
   "cell_type": "code",
   "execution_count": 4,
   "metadata": {
    "scrolled": false
   },
   "outputs": [
    {
     "name": "stdout",
     "output_type": "stream",
     "text": [
      "\n",
      "Julia >>>\n",
      "\n",
      "u0 = [999.0, 1.0, 0.0]\n",
      "tspan = (0.0, 160.0)\n",
      "p = [0.30000001192092896, 0.10000000149011612]\n",
      "\n",
      "prob = ODEForwardSensitivityProblem(f,u0,tspan,p)\n",
      "\n",
      "solution = solve(prob,Tsit5(),reltol=1e-08,abstol=1e-08,saveat=1.0)\n",
      "\n",
      "u, du = extract_local_sensitivities(solution)\n",
      "\n",
      "u, du, solution.t\n",
      "\n",
      "<<<\n",
      "\n"
     ]
    },
    {
     "data": {
      "text/plain": [
       "tensor([ 1.5894e+08, -3.1630e+08])"
      ]
     },
     "execution_count": 4,
     "metadata": {},
     "output_type": "execute_result"
    }
   ],
   "source": [
    "p = torch.tensor([0.3, 0.1], requires_grad=True)\n",
    "\n",
    "u, t = de(u0, tspan, p)\n",
    "\n",
    "loss = (u**2).sum()\n",
    "loss.backward()\n",
    "\n",
    "dloss = p.grad\n",
    "dloss"
   ]
  },
  {
   "cell_type": "markdown",
   "metadata": {},
   "source": [
    "## Timings"
   ]
  },
  {
   "cell_type": "markdown",
   "metadata": {},
   "source": [
    "### No gradient"
   ]
  },
  {
   "cell_type": "code",
   "execution_count": 5,
   "metadata": {},
   "outputs": [],
   "source": [
    "de.debug = False\n",
    "p = torch.tensor([0.3, 0.1])"
   ]
  },
  {
   "cell_type": "code",
   "execution_count": 6,
   "metadata": {},
   "outputs": [
    {
     "name": "stdout",
     "output_type": "stream",
     "text": [
      "1.63 ms ± 83.9 µs per loop (mean ± std. dev. of 7 runs, 1000 loops each)\n"
     ]
    }
   ],
   "source": [
    "%%timeit\n",
    "_ = de(u0, tspan, p)"
   ]
  },
  {
   "cell_type": "markdown",
   "metadata": {},
   "source": [
    "### With gradient"
   ]
  },
  {
   "cell_type": "code",
   "execution_count": 7,
   "metadata": {},
   "outputs": [],
   "source": [
    "de.debug = False\n",
    "p = torch.tensor([0.3, 0.1], requires_grad=True)"
   ]
  },
  {
   "cell_type": "code",
   "execution_count": 8,
   "metadata": {},
   "outputs": [
    {
     "name": "stdout",
     "output_type": "stream",
     "text": [
      "2.02 ms ± 26.5 µs per loop (mean ± std. dev. of 7 runs, 100 loops each)\n"
     ]
    }
   ],
   "source": [
    "%%timeit\n",
    "_ = de(u0, tspan, p)"
   ]
  },
  {
   "cell_type": "markdown",
   "metadata": {},
   "source": [
    "## Numerical checking"
   ]
  },
  {
   "cell_type": "markdown",
   "metadata": {},
   "source": [
    "See: https://pytorch.org/docs/stable/autograd.html#numerical-gradient-checking\n",
    "for details."
   ]
  },
  {
   "cell_type": "code",
   "execution_count": 9,
   "metadata": {},
   "outputs": [
    {
     "name": "stdout",
     "output_type": "stream",
     "text": [
      "True\n"
     ]
    },
    {
     "name": "stderr",
     "output_type": "stream",
     "text": [
      "/Users/jm/opt/anaconda3/envs/diffeqtorch/lib/python3.7/site-packages/torch/autograd/gradcheck.py:244: UserWarning: At least one of the inputs that requires gradient is not of double precision floating point. This check will likely fail if all the inputs are not of double precision floating point. \n",
      "  'At least one of the inputs that requires gradient '\n"
     ]
    }
   ],
   "source": [
    "from torch.autograd import gradcheck\n",
    "\n",
    "de.debug = False\n",
    "\n",
    "def loss_fun(p):\n",
    "    u, t = de(u0, tspan, p)\n",
    "    return (u**2).sum()\n",
    "\n",
    "test = gradcheck(loss_fun, p, eps=1e-4, atol=1e-4)\n",
    "print(test)"
   ]
  }
 ],
 "metadata": {
  "kernelspec": {
   "display_name": "Python 3",
   "language": "python",
   "name": "python3"
  },
  "language_info": {
   "codemirror_mode": {
    "name": "ipython",
    "version": 3
   },
   "file_extension": ".py",
   "mimetype": "text/x-python",
   "name": "python",
   "nbconvert_exporter": "python",
   "pygments_lexer": "ipython3",
   "version": "3.7.4"
  },
  "title": "SIR model"
 },
 "nbformat": 4,
 "nbformat_minor": 4
}
