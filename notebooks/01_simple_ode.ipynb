{
 "cells": [
  {
   "cell_type": "markdown",
   "metadata": {},
   "source": [
    "## Simple ODE problem\n",
    "\n",
    "Differential equation:\n",
    "$$\n",
    "\\frac{du}{dt} = p u, \\\\\n",
    "u(t=0) = u_0 = 1\n",
    "$$\n",
    "\n",
    "Solution:\n",
    "$$\n",
    "u(t) = \\exp({p t})\n",
    "$$"
   ]
  },
  {
   "cell_type": "code",
   "execution_count": 1,
   "metadata": {},
   "outputs": [
    {
     "name": "stdout",
     "output_type": "stream",
     "text": [
      "Initializing `DiffEq` with keywords:\n",
      "    problem_type_grad: ODEForwardSensitivityProblem\n",
      "    problem_type_no_grad: ODEProblem\n",
      "    solver: Tsit5\n",
      "    reltol: 1e-08\n",
      "    abstol: 1e-08\n",
      "    saveat: 0.1\n",
      "    using: ['DifferentialEquations, DiffEqSensitivity']\n",
      "    debug: 1\n",
      "\n",
      "Started Julia through `PyJulia`, took 9.00sec\n",
      "\n",
      "Julia >>>\n",
      "using DifferentialEquations, DiffEqSensitivity\n",
      "<<<\n",
      "\n",
      "\n",
      "Julia >>>\n",
      "\n",
      "function f(du,u,p,t)\n",
      "    du[1] = p[1] * u[1]\n",
      "end\n",
      "\n",
      "<<<\n",
      "\n"
     ]
    }
   ],
   "source": [
    "import torch\n",
    "import matplotlib.pyplot as plt\n",
    "\n",
    "from diffeqtorch import DiffEq\n",
    "%matplotlib inline\n",
    "\n",
    "# ODE specified in Julia as a string, see DifferentialEquations.jl for documentation\n",
    "f = \"\"\"\n",
    "function f(du,u,p,t)\n",
    "    du[1] = p[1] * u[1]\n",
    "end\n",
    "\"\"\"\n",
    "\n",
    "# Create instance of DiffEq while enabling debugging\n",
    "# Usually, we won't need debugging but it's good for getting a clue of what is going on\n",
    "de = DiffEq(f, debug=1)"
   ]
  },
  {
   "cell_type": "markdown",
   "metadata": {},
   "source": [
    "When initializing `DiffEq` the different keyword arguments that can be passed are:"
   ]
  },
  {
   "cell_type": "code",
   "execution_count": 2,
   "metadata": {
    "scrolled": false
   },
   "outputs": [
    {
     "name": "stdout",
     "output_type": "stream",
     "text": [
      "Help on function __init__ in module diffeqtorch.diffeqtorch:\n",
      "\n",
      "__init__(self, f: 'str', problem_type_grad: 'str' = 'ODEForwardSensitivityProblem', problem_type_no_grad: 'str' = 'ODEProblem', solver: 'str' = 'Tsit5', reltol: 'float' = 1e-08, abstol: 'float' = 1e-08, saveat: 'float' = 0.1, using: 'List[str]' = ['DifferentialEquations, DiffEqSensitivity'], pyjulia_opts: 'Dict[str, Any]' = {'compiled_modules': False, 'sysimage': '/Users/jm/.julia_sysimage_diffeqtorch.so', 'runtime': 'julia'}, debug: 'Union[bool, int]' = 0)\n",
      "    Initialize solver module\n",
      "    \n",
      "    Args:\n",
      "        f: Function definition in Julia, see [1] for details\n",
      "        problem_type_grad: The DifferentialEquations.jl problem type used when\n",
      "            gradients calculation is required, see [1] for details\n",
      "        problem_type_no_grad: The DifferentialEquations.jl problem type used when\n",
      "            no gradients calculation is required, see [1] for details\n",
      "        solver: The solver that is used, see [1] for details\n",
      "        reltol: Relative tolerance, see [1] for details\n",
      "        abstol: Absolute tolerance, see [1] for details\n",
      "        saveat: At which timesteps outputs are saved, see [1] for details\n",
      "        using: Packages that are imported to Julia session\n",
      "        pyjulia_opts: Keyword dict passed to pyjulia at initialisation, see [2]\n",
      "            for details\n",
      "        debug: Amount of debug info (from nothing to a lot), options are:\n",
      "            - 0: No info, also used when `debug=False`\n",
      "            - 1: General info including Julia commands, also used when `debug=True`\n",
      "            - 2: Additionally logging PyTorch shapes\n",
      "            - 3: Additionally logging PyTorch values\n",
      "            - 4: Additionally turning on PyJulia debug mode\n",
      "    \n",
      "    [1]: https://docs.sciml.ai/stable/\n",
      "    [2]: https://pyjulia.readthedocs.io/en/stable/api.html#julia.api.Julia\n",
      "\n"
     ]
    }
   ],
   "source": [
    "help(DiffEq.__init__)"
   ]
  },
  {
   "cell_type": "markdown",
   "metadata": {},
   "source": [
    "Next, solve the equation given initial conditions `u0`, a timespan `tspan` (start and end points), and parameters `p`:"
   ]
  },
  {
   "cell_type": "code",
   "execution_count": 3,
   "metadata": {},
   "outputs": [
    {
     "name": "stdout",
     "output_type": "stream",
     "text": [
      "\n",
      "Julia >>>\n",
      "\n",
      "u0 = [1.0]\n",
      "tspan = (0.0, 3.0)\n",
      "p = [1.0099999904632568]\n",
      "\n",
      "prob = ODEProblem(f,u0,tspan,p)\n",
      "\n",
      "solution = solve(prob,Tsit5(),reltol=1e-08,abstol=1e-08,saveat=0.1)\n",
      "\n",
      "solution.u, solution.t\n",
      "\n",
      "<<<\n",
      "\n"
     ]
    }
   ],
   "source": [
    "u0 = torch.tensor([1.])\n",
    "tspan = torch.tensor([0., 3.])\n",
    "p = torch.tensor([1.01])\n",
    "\n",
    "u, t = de(u0, tspan, p)"
   ]
  },
  {
   "cell_type": "markdown",
   "metadata": {},
   "source": [
    "When calling `de(...)` as we just did, `DiffEq.forward` is invoked under the hood. The docstring for this method is:"
   ]
  },
  {
   "cell_type": "code",
   "execution_count": 4,
   "metadata": {},
   "outputs": [
    {
     "name": "stdout",
     "output_type": "stream",
     "text": [
      "Help on function forward in module diffeqtorch.diffeqtorch:\n",
      "\n",
      "forward(self, u0: 'torch.Tensor', tspan: 'torch.Tensor', p: 'torch.Tensor') -> 'Tuple[torch.Tensor, torch.Tensor]'\n",
      "    Forward pass through solver\n",
      "    \n",
      "    Args:\n",
      "        u0: Initial values as a 1d tensor\n",
      "        tspan: Start and end points for integration\n",
      "        p: Parameters as a 1d tensor\n",
      "    \n",
      "    Returns:\n",
      "        Returns solutions `u` and timesteps `t`\n",
      "\n"
     ]
    }
   ],
   "source": [
    "help(DiffEq.forward)"
   ]
  },
  {
   "cell_type": "markdown",
   "metadata": {},
   "source": [
    "With that out of the way, let's plot the solution and compare it to the analytical one."
   ]
  },
  {
   "cell_type": "code",
   "execution_count": 5,
   "metadata": {},
   "outputs": [
    {
     "data": {
      "image/png": "[encoded data removed]",
      "text/plain": [
       "<Figure size 432x288 with 1 Axes>"
      ]
     },
     "metadata": {
      "needs_background": "light"
     },
     "output_type": "display_data"
    }
   ],
   "source": [
    "# Plot solution against analytic solution\n",
    "u_analytic = torch.exp(p * t)\n",
    "\n",
    "plt.plot(t, u.T, label=\"DifferentialEquations.jl\");\n",
    "plt.plot(t, u_analytic, label=\"Analytic solution\");\n",
    "plt.xlabel(\"t\")\n",
    "plt.ylabel(\"u(t)\")\n",
    "plt.legend();"
   ]
  },
  {
   "cell_type": "markdown",
   "metadata": {},
   "source": [
    "## Benchmark"
   ]
  },
  {
   "cell_type": "markdown",
   "metadata": {},
   "source": [
    "Due to the way julia works, the first solution is slow but subsequent calls will be much faster now (compilation happening behind the scenes). It's important to keep this in mind -- e.g., when benchmarking, do a dummy run first. We already did a run, so that's fine."
   ]
  },
  {
   "cell_type": "code",
   "execution_count": 6,
   "metadata": {},
   "outputs": [],
   "source": [
    "de.debug = False  # Disable debug output"
   ]
  },
  {
   "cell_type": "code",
   "execution_count": 7,
   "metadata": {
    "scrolled": false
   },
   "outputs": [
    {
     "name": "stdout",
     "output_type": "stream",
     "text": [
      "1.26 ms ± 38.4 µs per loop (mean ± std. dev. of 7 runs, 1000 loops each)\n"
     ]
    }
   ],
   "source": [
    "%%timeit\n",
    "_ = de(u0, tspan, p)"
   ]
  },
  {
   "cell_type": "markdown",
   "metadata": {},
   "source": [
    "## Gradients"
   ]
  },
  {
   "cell_type": "markdown",
   "metadata": {},
   "source": [
    "The analytical gradient of $u(t)$ with respect to $p$ is:\n",
    "\n",
    "$$\n",
    "\\frac{du(t)}{dp} = t \\exp{(p t)}\n",
    "$$"
   ]
  },
  {
   "cell_type": "markdown",
   "metadata": {},
   "source": [
    "We want to test whether this matches the computed gradient."
   ]
  },
  {
   "cell_type": "markdown",
   "metadata": {},
   "source": [
    "The parameter that we want to compute the derivate for:"
   ]
  },
  {
   "cell_type": "code",
   "execution_count": 8,
   "metadata": {},
   "outputs": [],
   "source": [
    "p = torch.tensor([2.0], requires_grad=True)"
   ]
  },
  {
   "cell_type": "markdown",
   "metadata": {},
   "source": [
    "Notice that `requires_grad=True`. Without it, we won't ask Julia to compute gradients since this introduces an overhead. By default gradients are computed using forward sensitivities, making the execution slower than before:"
   ]
  },
  {
   "cell_type": "code",
   "execution_count": 9,
   "metadata": {},
   "outputs": [
    {
     "name": "stdout",
     "output_type": "stream",
     "text": [
      "1.88 ms ± 131 µs per loop (mean ± std. dev. of 7 runs, 1 loop each)\n"
     ]
    }
   ],
   "source": [
    "%%timeit\n",
    "_ = de(u0, tspan, p)"
   ]
  },
  {
   "cell_type": "markdown",
   "metadata": {},
   "source": [
    "Once again, turn on debug output to level 3 (see docstring of `DiffEq` for an explanation) and solve:"
   ]
  },
  {
   "cell_type": "code",
   "execution_count": 10,
   "metadata": {},
   "outputs": [
    {
     "name": "stdout",
     "output_type": "stream",
     "text": [
      "p.shape: torch.Size([1])\n",
      "u0.shape: torch.Size([1]))\n",
      "tspan.shape: torch.Size([2])\n",
      "p: tensor([2.], requires_grad=True)\n",
      "u0: tensor([1.]))\n",
      "tspan: tensor([0., 3.])\n",
      "compute_grad_p: True\n",
      "\n",
      "Julia >>>\n",
      "\n",
      "u0 = [1.0]\n",
      "tspan = (0.0, 3.0)\n",
      "p = [2.0]\n",
      "\n",
      "prob = ODEForwardSensitivityProblem(f,u0,tspan,p)\n",
      "\n",
      "solution = solve(prob,Tsit5(),reltol=1e-08,abstol=1e-08,saveat=0.1)\n",
      "\n",
      "u, du = extract_local_sensitivities(solution)\n",
      "\n",
      "u, du, solution.t\n",
      "\n",
      "<<<\n",
      "\n",
      "u.shape: torch.Size([1, 31]))\n",
      "du.shape: torch.Size([1, 1, 31]))\n",
      "t.shape: torch.Size([31]))\n",
      "u: tensor([[  1.0000,   1.2214,   1.4918,   1.8221,   2.2255,   2.7183,   3.3201,\n",
      "           4.0552,   4.9530,   6.0496,   7.3891,   9.0250,  11.0232,  13.4637,\n",
      "          16.4446,  20.0855,  24.5325,  29.9641,  36.5982,  44.7012,  54.5982,\n",
      "          66.6863,  81.4509,  99.4843, 121.5104, 148.4132, 181.2722, 221.4064,\n",
      "         270.4264, 330.2996, 403.4288]], dtype=torch.float64))\n",
      "du: tensor([[[0.0000e+00, 1.2214e-01, 2.9836e-01, 5.4664e-01, 8.9022e-01,\n",
      "          1.3591e+00, 1.9921e+00, 2.8386e+00, 3.9624e+00, 5.4447e+00,\n",
      "          7.3891e+00, 9.9275e+00, 1.3228e+01, 1.7503e+01, 2.3023e+01,\n",
      "          3.0128e+01, 3.9252e+01, 5.0939e+01, 6.5877e+01, 8.4932e+01,\n",
      "          1.0920e+02, 1.4004e+02, 1.7919e+02, 2.2881e+02, 2.9163e+02,\n",
      "          3.7103e+02, 4.7131e+02, 5.9780e+02, 7.5719e+02, 9.5787e+02,\n",
      "          1.2103e+03]]], dtype=torch.float64))\n",
      "t: tensor([0.0000, 0.1000, 0.2000, 0.3000, 0.4000, 0.5000, 0.6000, 0.7000, 0.8000,\n",
      "        0.9000, 1.0000, 1.1000, 1.2000, 1.3000, 1.4000, 1.5000, 1.6000, 1.7000,\n",
      "        1.8000, 1.9000, 2.0000, 2.1000, 2.2000, 2.3000, 2.4000, 2.5000, 2.6000,\n",
      "        2.7000, 2.8000, 2.9000, 3.0000], dtype=torch.float64))\n"
     ]
    }
   ],
   "source": [
    "de.debug = 3\n",
    "u, t = de(u0, tspan, p)"
   ]
  },
  {
   "cell_type": "markdown",
   "metadata": {},
   "source": [
    "In the Julia code from the debug, we can see that a `ODEForwardSensitivityProblem` was created.\n",
    "\n",
    "This is the default problem when gradients wrt to p are required and can be changed when setting up `DiffEq`.\n",
    "\n",
    "We can also see the computed solution for `du` in the output."
   ]
  },
  {
   "cell_type": "code",
   "execution_count": 11,
   "metadata": {},
   "outputs": [],
   "source": [
    "# Copied from debugging info above\n",
    "du = torch.tensor([0.0000e+00, 1.2214e-01, 2.9836e-01, 5.4664e-01, 8.9022e-01, 1.3591e+00,\n",
    "1.9921e+00, 2.8386e+00, 3.9624e+00, 5.4447e+00, 7.3891e+00, 9.9275e+00,\n",
    "1.3228e+01, 1.7503e+01, 2.3023e+01, 3.0128e+01, 3.9252e+01, 5.0939e+01,\n",
    "6.5877e+01, 8.4932e+01, 1.0920e+02, 1.4004e+02, 1.7919e+02, 2.2881e+02,\n",
    "2.9163e+02, 3.7103e+02, 4.7131e+02, 5.9780e+02, 7.5719e+02, 9.5787e+02,\n",
    "1.2103e+03], dtype=torch.float64)"
   ]
  },
  {
   "cell_type": "markdown",
   "metadata": {},
   "source": [
    "The analytical solution is:"
   ]
  },
  {
   "cell_type": "code",
   "execution_count": 12,
   "metadata": {},
   "outputs": [],
   "source": [
    "du_analytic = t * torch.exp(p * t)"
   ]
  },
  {
   "cell_type": "markdown",
   "metadata": {},
   "source": [
    "Comparing both, they match very closely:"
   ]
  },
  {
   "cell_type": "code",
   "execution_count": 13,
   "metadata": {
    "scrolled": false
   },
   "outputs": [
    {
     "data": {
      "image/png": "[encoded data removed]",
      "text/plain": [
       "<Figure size 432x288 with 1 Axes>"
      ]
     },
     "metadata": {
      "needs_background": "light"
     },
     "output_type": "display_data"
    }
   ],
   "source": [
    "plt.plot(t.detach(), du, label=\"DifferentialEquations.jl gradient\");\n",
    "plt.plot(t.detach(), du_analytic.detach(), label=\"Analytic gradient\");\n",
    "plt.xlabel(\"t\")\n",
    "plt.ylabel(\"du(t) / dp\")\n",
    "plt.legend();"
   ]
  },
  {
   "cell_type": "markdown",
   "metadata": {},
   "source": [
    "## Scalar loss"
   ]
  },
  {
   "cell_type": "markdown",
   "metadata": {},
   "source": [
    "Above, we copied the gradient `du` from the debug info rather than reading it out in code after calling PyTorch's `backward()`.\n",
    "\n",
    "The reason is the following: PyTorch only supports taking gradients wrt to scalar outputs. So calling `u.backward()` will yield a runtime error.\n",
    "\n",
    "The scenario in which we will use PyTorch's autodiff is thus one where we do additional computations on `u`, i.e., use it to define a loss or likelihood function. "
   ]
  },
  {
   "cell_type": "markdown",
   "metadata": {},
   "source": [
    "For simplicity, assume that this function is simply the sum over all elements squared:"
   ]
  },
  {
   "cell_type": "markdown",
   "metadata": {},
   "source": [
    "$$\n",
    "L(p) = \\sum_{t=1}^T u(t)^2 = \\sum_{t=1}^T \\exp({p t})^2 =  \\sum_{t=1}^T \\exp({2 p t})\n",
    "$$"
   ]
  },
  {
   "cell_type": "markdown",
   "metadata": {},
   "source": [
    "Therefore:\n",
    "$$\n",
    "\\frac{dL(p)}{dp} = \\sum_{t=1}^T 2t \\exp{(2pt)}\n",
    "$$"
   ]
  },
  {
   "cell_type": "markdown",
   "metadata": {},
   "source": [
    "We can check that we obtain the correct solution by calling `backward` on `loss`:"
   ]
  },
  {
   "cell_type": "code",
   "execution_count": 14,
   "metadata": {},
   "outputs": [
    {
     "name": "stdout",
     "output_type": "stream",
     "text": [
      "du.shape: torch.Size([1, 1, 31]))\n",
      "grad_output_u.shape: torch.Size([1, 31]))\n",
      "du: tensor([[[0.0000e+00, 1.2214e-01, 2.9836e-01, 5.4664e-01, 8.9022e-01,\n",
      "          1.3591e+00, 1.9921e+00, 2.8386e+00, 3.9624e+00, 5.4447e+00,\n",
      "          7.3891e+00, 9.9275e+00, 1.3228e+01, 1.7503e+01, 2.3023e+01,\n",
      "          3.0128e+01, 3.9252e+01, 5.0939e+01, 6.5877e+01, 8.4932e+01,\n",
      "          1.0920e+02, 1.4004e+02, 1.7919e+02, 2.2881e+02, 2.9163e+02,\n",
      "          3.7103e+02, 4.7131e+02, 5.9780e+02, 7.5719e+02, 9.5787e+02,\n",
      "          1.2103e+03]]], dtype=torch.float64))\n",
      "grad_output_u: tensor([[  2.0000,   2.4428,   2.9836,   3.6442,   4.4511,   5.4366,   6.6402,\n",
      "           8.1104,   9.9061,  12.0993,  14.7781,  18.0500,  22.0464,  26.9275,\n",
      "          32.8893,  40.1711,  49.0651,  59.9282,  73.1965,  89.4024, 109.1963,\n",
      "         133.3727, 162.9017, 198.9686, 243.0208, 296.8263, 362.5445, 442.8128,\n",
      "         540.8528, 660.5991, 806.8576]], dtype=torch.float64))\n",
      "grad_p.shape: torch.Size([1]))\n",
      "grad_p: tensor([2761299.4939], dtype=torch.float64))\n"
     ]
    }
   ],
   "source": [
    "loss = (u**2).sum()\n",
    "loss.backward()"
   ]
  },
  {
   "cell_type": "code",
   "execution_count": 15,
   "metadata": {},
   "outputs": [
    {
     "name": "stdout",
     "output_type": "stream",
     "text": [
      "grad_p by auto-diff: 2761299.5\n",
      "grad_p analytical: 2761299.491053908\n",
      "difference: 0.008946091867983341\n"
     ]
    }
   ],
   "source": [
    "grad_p = p.grad\n",
    "grad_p_analytical = (2*t*torch.exp(2*p*t)).sum()\n",
    "\n",
    "print(f\"grad_p by auto-diff: {grad_p.item()}\")\n",
    "print(f\"grad_p analytical: {grad_p_analytical}\")\n",
    "\n",
    "print(f\"difference: {grad_p.item() - grad_p_analytical}\")"
   ]
  },
  {
   "cell_type": "markdown",
   "metadata": {},
   "source": [
    "If you are interested in seeing how `grad_p` is computed in the code, take a look at the backward `diffeqtorch/diffeqtorch.py`: It comes down to using the multivariate chain rule with `du` and `grad_output_u`."
   ]
  },
  {
   "cell_type": "markdown",
   "metadata": {},
   "source": [
    "## Numerical checking"
   ]
  },
  {
   "cell_type": "markdown",
   "metadata": {},
   "source": [
    "See: https://pytorch.org/docs/stable/autograd.html#numerical-gradient-checking\n",
    "for details."
   ]
  },
  {
   "cell_type": "code",
   "execution_count": 16,
   "metadata": {},
   "outputs": [
    {
     "name": "stdout",
     "output_type": "stream",
     "text": [
      "True\n"
     ]
    },
    {
     "name": "stderr",
     "output_type": "stream",
     "text": [
      "/Users/jm/opt/anaconda3/envs/diffeqtorch/lib/python3.7/site-packages/torch/autograd/gradcheck.py:244: UserWarning: At least one of the inputs that requires gradient is not of double precision floating point. This check will likely fail if all the inputs are not of double precision floating point. \n",
      "  'At least one of the inputs that requires gradient '\n"
     ]
    }
   ],
   "source": [
    "from torch.autograd import gradcheck\n",
    "\n",
    "de.debug = False\n",
    "\n",
    "def loss_fun(p):\n",
    "    u, t = de(u0, tspan, p)\n",
    "    return (u**2).sum()\n",
    "\n",
    "test = gradcheck(loss_fun, p, eps=1e-4, atol=1e-4)\n",
    "print(test)"
   ]
  }
 ],
 "metadata": {
  "kernelspec": {
   "display_name": "Python 3",
   "language": "python",
   "name": "python3"
  },
  "language_info": {
   "codemirror_mode": {
    "name": "ipython",
    "version": 3
   },
   "file_extension": ".py",
   "mimetype": "text/x-python",
   "name": "python",
   "nbconvert_exporter": "python",
   "pygments_lexer": "ipython3",
   "version": "3.7.4"
  },
  "title": "Simple ODE"
 },
 "nbformat": 4,
 "nbformat_minor": 4
}
